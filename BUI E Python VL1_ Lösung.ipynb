{
 "cells": [
  {
   "cell_type": "markdown",
   "source": [
    "# BUI E Python Vorlesung 1\n",
    "## Hörsaalübungen"
   ],
   "metadata": {
    "collapsed": false
   }
  },
  {
   "cell_type": "markdown",
   "source": [
    "## 1. Ein einfaches Programm (Folie 10):\n",
    "\n",
    "- Hello World ausgeben lassen\n",
    "\n",
    "- Anlegen von zwei Zahlen (2 und 4)\n",
    "- Addition der beiden Zahlen\n",
    "- Ergebnis ebenfalls ausgeben"
   ],
   "metadata": {
    "collapsed": false
   }
  },
  {
   "cell_type": "code",
   "execution_count": 16,
   "outputs": [
    {
     "name": "stdout",
     "output_type": "stream",
     "text": [
      "Hello World\n",
      "6\n"
     ]
    }
   ],
   "source": [
    "print(\"Hello World\")\n",
    "\n",
    "# Addition von zwei Zahlen\n",
    "nummer1 = 2\n",
    "nummer2 = 4\n",
    "summe = nummer1+nummer2\n",
    "print(summe)"
   ],
   "metadata": {
    "collapsed": false,
    "pycharm": {
     "name": "#%%\n"
    }
   }
  },
  {
   "cell_type": "markdown",
   "source": [
    "## 2. Aufzugsteuerung (Folie 31):\n",
    "\n",
    "Es stehen zwei Aufzüge A und B zur Verfügung.\n",
    "Es soll der nähergelegene Aufzug in das aktuelle Stockwerk gerufen werden.\n",
    "Aufzug A befindet sich in Stockwerk a_aktuell, Aufzug B in b_aktuell.\n",
    "Aus Stockwerk c_start kommt die Fahrtanforderung.\n",
    "\n",
    "Schreiben Sie ein Python-Programm, dass die Parameter a_aktuell, b_aktuell und c_start vom Nutzer einliest.\n",
    "Das Programm soll ‘A‘ ausgeben, wenn Aufzug A geholt wird, und ‘B‘, wenn Aufzug B geholt wird.\n",
    "Tipp: Verwenden Sie die Funktion abs(), um den Absolutwert (Betrag) zu bestimmen."
   ],
   "metadata": {
    "collapsed": false
   }
  },
  {
   "cell_type": "code",
   "execution_count": 17,
   "outputs": [
    {
     "name": "stdout",
     "output_type": "stream",
     "text": [
      "Nehmen Sie Aufzug B\n"
     ]
    }
   ],
   "source": [
    "a_aktuell=int(input(\"Position Stockwerk Aufzug A?\"))\n",
    "b_aktuell=int(input(\"Position Stockwerk Aufzug B?\"))\n",
    "c_start=int(input(\"Stockwerk auf dem Sie sich befinden?\"))\n",
    "\n",
    "if abs(a_aktuell-c_start) < abs(b_aktuell-c_start):\n",
    "    print(\"Nehmen Sie Aufzug A\")\n",
    "else:\n",
    "    print(\"Nehmen Sie Aufzug B\")"
   ],
   "metadata": {
    "collapsed": false,
    "pycharm": {
     "name": "#%%\n"
    }
   }
  },
  {
   "cell_type": "markdown",
   "source": [
    "## 3. Geschachtelte Schleifen (Folie 35):\n",
    "\n",
    "Schreiben Sie ein Programm, das alle Werte des kleinen Einmaleins berechnet.\n",
    "Verwenden Sie zwei geschachtelte Schleifen mit den Laufvariablen m und n.\n",
    "Immer, wenn n um 1 erhöht wird, soll eine neue Zeile beginnen."
   ],
   "metadata": {
    "collapsed": false
   }
  },
  {
   "cell_type": "code",
   "execution_count": 18,
   "outputs": [
    {
     "name": "stdout",
     "output_type": "stream",
     "text": [
      "1 2 3 4 5 6 7 8 9 10 11 \n",
      "2 4 6 8 10 12 14 16 18 20 22 \n",
      "3 6 9 12 15 18 21 24 27 30 33 \n",
      "4 8 12 16 20 24 28 32 36 40 44 \n",
      "5 10 15 20 25 30 35 40 45 50 55 \n",
      "6 12 18 24 30 36 42 48 54 60 66 \n",
      "7 14 21 28 35 42 49 56 63 70 77 \n",
      "8 16 24 32 40 48 56 64 72 80 88 \n",
      "9 18 27 36 45 54 63 72 81 90 99 \n",
      "10 20 30 40 50 60 70 80 90 100 110 \n",
      "11 22 33 44 55 66 77 88 99 110 121 \n"
     ]
    }
   ],
   "source": [
    "i=0\n",
    "j=0\n",
    "\n",
    "while i<=10:\n",
    "    i+=1\n",
    "    while j<=10:\n",
    "        j+=1\n",
    "        produkt=i*j\n",
    "        print(produkt, end=\" \")\n",
    "        #end=\" \" damit für die innere j Schleife alles in einer Reihe ausgegeben wird)\n",
    "    j=0\n",
    "    print()"
   ],
   "metadata": {
    "collapsed": false,
    "pycharm": {
     "name": "#%%\n"
    }
   }
  }
 ],
 "metadata": {
  "kernelspec": {
   "display_name": "Python 3",
   "language": "python",
   "name": "python3"
  },
  "language_info": {
   "codemirror_mode": {
    "name": "ipython",
    "version": 2
   },
   "file_extension": ".py",
   "mimetype": "text/x-python",
   "name": "python",
   "nbconvert_exporter": "python",
   "pygments_lexer": "ipython2",
   "version": "2.7.6"
  }
 },
 "nbformat": 4,
 "nbformat_minor": 0
}