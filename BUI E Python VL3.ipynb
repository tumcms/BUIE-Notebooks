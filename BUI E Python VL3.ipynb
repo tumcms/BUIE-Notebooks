{
 "cells": [
  {
   "cell_type": "markdown",
   "source": [
    "# BUI E Python Vorlesung 3\n",
    "## Hörsaalübungen"
   ],
   "metadata": {
    "collapsed": false
   }
  },
  {
   "cell_type": "markdown",
   "source": [
    "## 1. Klassendefinition und -nutzung in Python (Folie 77):\n",
    "\n",
    "Schreiben Sie eine Klasse Kreis mit einem Attribut radius, das über einen entsprechenden Konstruktor belegt wird, und mit einer Methode umfang(), die den Umfang berechnet und zurückgibt.\n",
    "\n",
    "Erzeugen Sie zwei Instanzen mit unterschiedlichen radii und rufen Sie die Methode umfang() auf."
   ],
   "metadata": {
    "collapsed": false,
    "pycharm": {
     "name": "#%% md\n"
    }
   }
  },
  {
   "cell_type": "code",
   "execution_count": null,
   "outputs": [],
   "source": [],
   "metadata": {
    "collapsed": false,
    "pycharm": {
     "name": "#%%\n"
    }
   }
  },
  {
   "cell_type": "markdown",
   "source": [
    "## 2. Klassendefinition und -nutzung in Python (Folie 85):\n",
    "\n",
    "Erweitern Sie die Klasse Kreis um das Property radius.\n",
    "\n",
    "Definieren Sie dazu die entsprechenden Getter- und Setter-Methoden. Setzen Sie den Radius auf 0, wenn ein negativer Wert übergeben wird."
   ],
   "metadata": {
    "collapsed": false
   }
  },
  {
   "cell_type": "code",
   "execution_count": null,
   "outputs": [],
   "source": [],
   "metadata": {
    "collapsed": false,
    "pycharm": {
     "name": "#%%\n"
    }
   }
  }
 ],
 "metadata": {
  "kernelspec": {
   "display_name": "Python 3",
   "language": "python",
   "name": "python3"
  },
  "language_info": {
   "codemirror_mode": {
    "name": "ipython",
    "version": 2
   },
   "file_extension": ".py",
   "mimetype": "text/x-python",
   "name": "python",
   "nbconvert_exporter": "python",
   "pygments_lexer": "ipython2",
   "version": "2.7.6"
  }
 },
 "nbformat": 4,
 "nbformat_minor": 0
}