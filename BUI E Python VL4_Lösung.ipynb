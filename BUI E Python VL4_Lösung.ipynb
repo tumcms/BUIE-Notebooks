{
 "cells": [
  {
   "cell_type": "markdown",
   "source": [
    "# BUI E Python Vorlesung 4\n",
    "## Hörsaalübungen"
   ],
   "metadata": {
    "collapsed": false
   }
  },
  {
   "cell_type": "markdown",
   "source": [
    "## 1. Klassendefinition und -nutzung Python (Folie 88):\n",
    "\n",
    "Schreiben Sie eine Klasse Rechteck mit den Properties laenge und breite und der Methode umfang(). Verwenden Sie die Dekorator-Technik für das Anlegen von Getter und Setter-Methoden.\n",
    "\n",
    "Testen Sie Ihre Klasse, indem Sie ein Rechteck mit Länge=2, Breite =4 anlegen, den Umfang ausgeben und anschließend seine Länge auf 4 und seine Breite auf 8 erhöhen und wiederum den Umfang ausgeben.\n"
   ],
   "metadata": {
    "collapsed": false,
    "pycharm": {
     "name": "#%% md\n"
    }
   }
  },
  {
   "cell_type": "markdown",
   "source": [],
   "metadata": {
    "collapsed": false
   }
  },
  {
   "cell_type": "code",
   "execution_count": 17,
   "outputs": [
    {
     "name": "stdout",
     "output_type": "stream",
     "text": [
      "Umfang: 12\n",
      "Umfang: 24\n"
     ]
    }
   ],
   "source": [
    "class Rechteck:\n",
    "\n",
    "\tdef __init__(self, l, b):\n",
    "\t\tself.l = l\n",
    "\t\tself.b = b\n",
    "\n",
    "\tdef umfang(self):\n",
    "\t\treturn self.l * 2 + self.b *2\n",
    "\n",
    "\n",
    "# -----\n",
    "rechteck1 = Rechteck(2, 4)\n",
    "u = rechteck1.umfang()\n",
    "print('Umfang: {}'.format(u))\n",
    "\n",
    "rechteck1.l = 4\n",
    "rechteck1.b = 8\n",
    "u = rect1.umfang()\n",
    "print('Umfang: {}'.format(u))"
   ],
   "metadata": {
    "collapsed": false,
    "pycharm": {
     "name": "#%%\n"
    }
   }
  },
  {
   "cell_type": "markdown",
   "source": [
    "## 2. Klasse Bruch (Folie 96):\n",
    "\n",
    "Schreiben Sie eine Klasse Bruch, die die Attribute zaehler und nenner besitzt und die die Multiplikation zweier Brüche sowie deren Vergleich mittels > unterstützt."
   ],
   "metadata": {
    "collapsed": false
   }
  },
  {
   "cell_type": "code",
   "execution_count": 14,
   "outputs": [
    {
     "name": "stdout",
     "output_type": "stream",
     "text": [
      "4/7\n",
      "7/8\n",
      "28/56\n",
      "Es gilt: x <= y\n"
     ]
    }
   ],
   "source": [
    "class Bruch (object):\n",
    "  def __init__(self, z, n):\n",
    "    self.__z = z\n",
    "    self.__n = n\n",
    "\n",
    "  def __mul__(self, other):\n",
    "    p = Bruch(self.__z * other.__z, self.__n * other.__n)\n",
    "    return p\n",
    "\n",
    "  def __gt__(self, other):\n",
    "    return self.__z * other.__n > other.__z * self.__n\n",
    "\n",
    "  def __str__(self):\n",
    "    return str(self.__z) + '/' + str(self.__n)\n",
    "\n",
    "# -----\n",
    "\n",
    "x = Bruch(4, 7)\n",
    "print(x)\n",
    "y = Bruch(7, 8)\n",
    "print(y)\n",
    "z = x * y\n",
    "print(z)\n",
    "\n",
    "if x > y:\n",
    "  print(\"Es gilt: x > y\")\n",
    "else:\n",
    "  print(\"Es gilt: x <= y\")\n"
   ],
   "metadata": {
    "collapsed": false,
    "pycharm": {
     "name": "#%%\n"
    }
   }
  },
  {
   "cell_type": "markdown",
   "source": [
    "## 3. Klasse Fahrzeug (Folie 106):\n",
    "\n",
    "Implementieren Sie das unten stehende Klassendiagramm.\n",
    "Testen Sie Ihre Implementierung durch Instanziierung eines LKW-Objekts sowie eines PKW-Objekts und Aufruf von beschleunige() und bremse() sowie Ausgabe der Geschwindigkeit."
   ],
   "metadata": {
    "collapsed": false
   }
  },
  {
   "cell_type": "markdown",
   "source": [
    "<img src=\"Fahrzeug_Klassendiagramm.png\" width=\"350\" height=\"200\">"
   ],
   "metadata": {
    "collapsed": false
   }
  },
  {
   "cell_type": "code",
   "execution_count": 2,
   "outputs": [
    {
     "name": "stdout",
     "output_type": "stream",
     "text": [
      "Geschwindgkeit LKW1:  15\n",
      "Geschwindgkeit LKW1:  10\n"
     ]
    }
   ],
   "source": [
    "class Fahrzeug:\n",
    "\n",
    "    def __init__(self, maxgeschwindgkeit):\n",
    "        self._maxgeschwindgkeit = maxgeschwindgkeit\n",
    "        self._geschwindigkeit = 0\n",
    "\n",
    "    def beschleunige(self, diff):\n",
    "        self._geschwindigkeit += diff\n",
    "\n",
    "    def bremse(self, diff):\n",
    "        self._geschwindigkeit -= diff\n",
    "\n",
    "\n",
    "class LKW (Fahrzeug):\n",
    "\n",
    "    def __init__(self, maxgeschwindkeit, tonnage):\n",
    "        super().__init__(maxgeschwindkeit)\n",
    "        self._tonnage = tonnage\n",
    "\n",
    "class PKW (Fahrzeug):\n",
    "\n",
    "    def __init__(self, maxgeschwindkeit, sitzplaetze):\n",
    "        super().__init__(maxgeschwindkeit)\n",
    "        self._sitzplaetze = sitzplaetze\n",
    "\n",
    "# -----\n",
    "\n",
    "lkw1 = LKW(90, 15)\n",
    "pkw1 = PKW(180, 5)\n",
    "\n",
    "lkw1.beschleunige(15)\n",
    "print(\"Geschwindgkeit LKW1: \", lkw1._geschwindigkeit)\n",
    "lkw1.bremse(5)\n",
    "print(\"Geschwindgkeit LKW1: \", lkw1._geschwindigkeit)\n",
    "\n"
   ],
   "metadata": {
    "collapsed": false,
    "pycharm": {
     "name": "#%%\n"
    }
   }
  },
  {
   "cell_type": "markdown",
   "source": [
    "## 4. Klasse GeomFigur (Folie 109):\n",
    "\n",
    "- Definieren Sie eine Klasse GeomFigur mit den leeren Methoden umfang() und flaecheninhalt().\n",
    "- Definieren Sie die Subklasse Kreis, die das Attribute radius besitzt und die die abstrakten Methoden mit einer sinnvollen Implementierung überschreibt.\n",
    "- Definieren Sie die Sublasse Rechteck, die die Attribute a und b besitzt und die die abstrakten Methoden mit einer sinnvollen Implementierung überschreibt."
   ],
   "metadata": {
    "collapsed": false
   }
  },
  {
   "cell_type": "code",
   "execution_count": 11,
   "outputs": [
    {
     "name": "stdout",
     "output_type": "stream",
     "text": [
      "25.132741228718345 50.26548245743669\n",
      "14 10\n"
     ]
    }
   ],
   "source": [
    "import abc\n",
    "from math import pi\n",
    "\n",
    "class GeomFigur(abc.ABC):\n",
    "    @abc.abstractmethod\n",
    "    def umfang(self):\n",
    "        pass\n",
    "\n",
    "    @abc.abstractmethod\n",
    "    def flaecheninhalt(self):\n",
    "        pass\n",
    "\n",
    "class Kreis(GeomFigur):\n",
    "    def __init__(self, radius):\n",
    "      self.radius = radius\n",
    "\n",
    "    def umfang(self):\n",
    "        return self.radius * pi * 2\n",
    "\n",
    "    def flaecheninhalt(self):\n",
    "        return self.radius**2 * pi\n",
    "\n",
    "class Rechteck(GeomFigur):\n",
    "    def __init__(self, a, b):\n",
    "      self.a = a\n",
    "      self.b = b\n",
    "\n",
    "    def umfang(self):\n",
    "        return self.a *2 + self.b *2\n",
    "\n",
    "    def flaecheninhalt(self):\n",
    "        return self.a * self.b\n",
    "\n",
    "# ------\n",
    "\n",
    "kreis1 = Kreis(4)\n",
    "u = kreis1.umfang()\n",
    "a = kreis1.flaecheninhalt()\n",
    "print(u,a)\n",
    "\n",
    "rechteck1 = Rechteck(2,5)\n",
    "u = rechteck1.umfang()\n",
    "a = rechteck1.flaecheninhalt()\n",
    "print(u, a)"
   ],
   "metadata": {
    "collapsed": false,
    "pycharm": {
     "name": "#%%\n"
    }
   }
  }
 ],
 "metadata": {
  "kernelspec": {
   "display_name": "Python 3",
   "language": "python",
   "name": "python3"
  },
  "language_info": {
   "codemirror_mode": {
    "name": "ipython",
    "version": 2
   },
   "file_extension": ".py",
   "mimetype": "text/x-python",
   "name": "python",
   "nbconvert_exporter": "python",
   "pygments_lexer": "ipython2",
   "version": "2.7.6"
  }
 },
 "nbformat": 4,
 "nbformat_minor": 0
}