{
 "cells": [
  {
   "cell_type": "markdown",
   "source": [],
   "metadata": {
    "collapsed": false
   }
  },
  {
   "cell_type": "markdown",
   "source": [
    "## 1. Ein einfaches Programm (Folie 10):\n",
    "\n",
    "- keine Semikolons\n",
    "- keine Deklaration der Datentypen\n",
    "- einfache Syntax\n",
    "\n",
    "### Folgenden Code ausführen:\n",
    "print(\"Hello World\")\n",
    "\n",
    "nummer1 = 2\n",
    "nummer2 = 4\n",
    "summe = nummer1+nummer2\n",
    "print(summe)"
   ],
   "metadata": {
    "collapsed": false,
    "pycharm": {
     "name": "#%% md\n"
    }
   }
  },
  {
   "cell_type": "code",
   "execution_count": 1,
   "outputs": [],
   "source": [
    "a=0\n"
   ],
   "metadata": {
    "collapsed": false,
    "pycharm": {
     "name": "#%%\n"
    }
   }
  },
  {
   "cell_type": "markdown",
   "source": [
    "## 2. Aufzugsteuerung (Folie 31):\n",
    "\n",
    "Es stehen zwei Aufzüge A und B zur Verfügung.\n",
    "Es soll der nähergelegene Aufzug in das aktuelle Stockwerk gerufen werden.\n",
    "Aufzug A befindet sich in Stockwerk a_aktuell, Aufzug B in b_aktuell.\n",
    "Aus Stockwerk c_start kommt die Fahrtanforderung.\n",
    "\n",
    "Schreiben Sie ein Python-Programm, dass die Parameter a_aktuell, b_aktuell und c_start vom Nutzer einliest.\n",
    "Das Programm soll ‘A‘ ausgeben, wenn Aufzug A geholt wird, und ‘B‘, wenn Aufzug B geholt wird.\n",
    "Tipp: Verwenden Sie die Funktion abs(), um den Absolutwert (Betrag) zu bestimmen."
   ],
   "metadata": {
    "collapsed": false
   }
  },
  {
   "cell_type": "code",
   "execution_count": 1,
   "outputs": [],
   "source": [],
   "metadata": {
    "collapsed": false,
    "pycharm": {
     "name": "#%%\n"
    }
   }
  },
  {
   "cell_type": "markdown",
   "source": [
    "## 3. Geschachtelte Schleifen (Folie 35):\n",
    "\n",
    "Schreiben Sie ein Programm, das alle Werte des kleinen Einmaleins berechnet.\n",
    "Verwenden Sie zwei geschachtelte Schleifen mit den Laufvariablen m und n.\n",
    "Immer, wenn n um 1 erhöht wird, soll eine neue Zeile beginnen."
   ],
   "metadata": {
    "collapsed": false
   }
  },
  {
   "cell_type": "code",
   "execution_count": 1,
   "outputs": [],
   "source": [],
   "metadata": {
    "collapsed": false,
    "pycharm": {
     "name": "#%%\n"
    }
   }
  }
 ],
 "metadata": {
  "kernelspec": {
   "display_name": "Python 3",
   "language": "python",
   "name": "python3"
  },
  "language_info": {
   "codemirror_mode": {
    "name": "ipython",
    "version": 2
   },
   "file_extension": ".py",
   "mimetype": "text/x-python",
   "name": "python",
   "nbconvert_exporter": "python",
   "pygments_lexer": "ipython2",
   "version": "2.7.6"
  }
 },
 "nbformat": 4,
 "nbformat_minor": 0
}