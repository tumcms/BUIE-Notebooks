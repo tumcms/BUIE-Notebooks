{
 "cells": [
  {
   "cell_type": "markdown",
   "source": [
    "# BUI E Python Vorlesung 3\n",
    "## Hörsaalübungen"
   ],
   "metadata": {
    "collapsed": false
   }
  },
  {
   "cell_type": "markdown",
   "source": [
    "## 1. Klassendefinition und -nutzung in Python (Folie 77):\n",
    "\n",
    "Schreiben Sie eine Klasse Kreis mit einem Attribut radius, das über einen entsprechenden Konstruktor belegt wird, und mit einer Methode umfang(), die den Umfang berechnet und zurückgibt.\n",
    "\n",
    "Erzeugen Sie zwei Instanzen mit unterschiedlichen radii und rufen Sie die Methode umfang() auf."
   ],
   "metadata": {
    "collapsed": false,
    "pycharm": {
     "name": "#%% md\n"
    }
   }
  },
  {
   "cell_type": "code",
   "execution_count": 2,
   "outputs": [
    {
     "name": "stdout",
     "output_type": "stream",
     "text": [
      "Kreis mit Radius 2.0 wurde erschaffen\n",
      "Umfang =  12.566370614359172\n",
      "Kreis mit Radius 3.0 wurde erschaffen\n",
      "Umfang =  6.283185307179586\n"
     ]
    }
   ],
   "source": [
    "from math import pi\n",
    "\n",
    "class Kreis:\n",
    "    def __init__(self, radius):\n",
    "        self.radius = radius\n",
    "        print(\"Kreis mit Radius \" + str(radius) + \" wurde erschaffen.\")\n",
    "\n",
    "    def umfang(self):\n",
    "        return self.radius * pi * 2\n",
    "\n",
    "if __name__ == \"__main__\":\n",
    "    meinKreis1 = Kreis(2.0)\n",
    "    u = meinKreis1.umfang()\n",
    "    print(\"Umfang = \", u)\n",
    "\n",
    "    meinKreis2 = Kreis(3.0)\n",
    "    meinKreis2.radius = 1.0\n",
    "    u = meinKreis2.umfang()\n",
    "    print(\"Umfang = \", u)"
   ],
   "metadata": {
    "collapsed": false,
    "pycharm": {
     "name": "#%%\n"
    }
   }
  },
  {
   "cell_type": "markdown",
   "source": [
    "## 2. Klassendefinition und -nutzung in Python (Folie 85):\n",
    "\n",
    "Erweitern Sie die Klasse Kreis um das Property radius.\n",
    "\n",
    "Definieren Sie dazu die entsprechenden Getter- und Setter-Methoden. Setzen Sie den Radius auf 0, wenn ein negativer Wert übergeben wird."
   ],
   "metadata": {
    "collapsed": false
   }
  },
  {
   "cell_type": "code",
   "execution_count": 3,
   "outputs": [
    {
     "name": "stdout",
     "output_type": "stream",
     "text": [
      "Kreis mit Radius 2.0 wurde erschaffen.\n",
      "Umfang =  0.0\n",
      "Kreis mit Radius 3.0 wurde erschaffen.\n",
      "Umfang =  6.283185307179586\n"
     ]
    }
   ],
   "source": [
    "from math import pi\n",
    "\n",
    "class Kreis:\n",
    "    def __init__(self, radius):\n",
    "        self.radius = radius\n",
    "        print(\"Kreis mit Radius \" + str(radius) + \" wurde erschaffen.\")\n",
    "\n",
    "    def umfang(self):\n",
    "        return self.radius * pi * 2\n",
    "\n",
    "    def get_radius(self):\n",
    "        return self.__radius\n",
    "\n",
    "    def set_radius(self, rad):\n",
    "        if rad < 0:\n",
    "            self.__radius = 0.0\n",
    "        else:\n",
    "            self.__radius = rad\n",
    "\n",
    "    radius = property(get_radius, set_radius)\n",
    "\n",
    "if __name__ == \"__main__\":\n",
    "    meinKreis1 = Kreis(2.0)\n",
    "    meinKreis1.radius = -1.0\n",
    "    meinKreis1.__radius = -2.0 #es wird ein neues Attribut angelegt\n",
    "\n",
    "    u = meinKreis1.umfang()\n",
    "    print(\"Umfang = \", u)\n",
    "\n",
    "\n",
    "    meinKreis2 = Kreis(3.0)\n",
    "    meinKreis2.radius = 1.0\n",
    "    u = meinKreis2.umfang()\n",
    "    print(\"Umfang = \", u)"
   ],
   "metadata": {
    "collapsed": false,
    "pycharm": {
     "name": "#%%\n"
    }
   }
  }
 ],
 "metadata": {
  "kernelspec": {
   "display_name": "Python 3",
   "language": "python",
   "name": "python3"
  },
  "language_info": {
   "codemirror_mode": {
    "name": "ipython",
    "version": 2
   },
   "file_extension": ".py",
   "mimetype": "text/x-python",
   "name": "python",
   "nbconvert_exporter": "python",
   "pygments_lexer": "ipython2",
   "version": "2.7.6"
  }
 },
 "nbformat": 4,
 "nbformat_minor": 0
}