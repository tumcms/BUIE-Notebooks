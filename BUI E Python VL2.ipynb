{
 "cells": [
  {
   "cell_type": "markdown",
   "source": [
    "# BUI E Python Vorlesung 2\n",
    "## Hörsaalübungen"
   ],
   "metadata": {
    "collapsed": false
   }
  },
  {
   "cell_type": "markdown",
   "source": [
    "## 1. Fakultät (Folie 39):\n",
    "\n",
    "- Lesen Sie den Wert i vom Nutzer ein.\n",
    "- Schreiben Sie eine Schleife, die die Fakultät des Wertes i berechnet.\n",
    "- Geben Sie das Ergebnis per print() aus."
   ],
   "metadata": {
    "collapsed": false,
    "pycharm": {
     "name": "#%% md\n"
    }
   }
  },
  {
   "cell_type": "code",
   "execution_count": 3,
   "outputs": [],
   "source": [],
   "metadata": {
    "collapsed": false,
    "pycharm": {
     "name": "#%%\n"
    }
   }
  },
  {
   "cell_type": "markdown",
   "source": [
    "## 2. Umfang (Folie 49):\n",
    "\n",
    "- Schreiben Sie eine Funktion umfang, der Sie den Radius eines Kreises als Parameter übergeben, daraus den Umfang berechnen und das Ergebnis zurückgibt.\n",
    "- Testen Sie Ihre Funktion, indem Sie diese mit radius=10 aufrufen.\n",
    "- π dürfen Sie mit 3,1416 annähern (steht auch als Konstante über math.pi zur Verfügung, danan import Math am Anfang notwendig)."
   ],
   "metadata": {
    "collapsed": false
   }
  },
  {
   "cell_type": "code",
   "execution_count": 3,
   "outputs": [],
   "source": [],
   "metadata": {
    "collapsed": false,
    "pycharm": {
     "name": "#%%\n"
    }
   }
  }
 ],
 "metadata": {
  "kernelspec": {
   "display_name": "Python 3",
   "language": "python",
   "name": "python3"
  },
  "language_info": {
   "codemirror_mode": {
    "name": "ipython",
    "version": 2
   },
   "file_extension": ".py",
   "mimetype": "text/x-python",
   "name": "python",
   "nbconvert_exporter": "python",
   "pygments_lexer": "ipython2",
   "version": "2.7.6"
  }
 },
 "nbformat": 4,
 "nbformat_minor": 0
}