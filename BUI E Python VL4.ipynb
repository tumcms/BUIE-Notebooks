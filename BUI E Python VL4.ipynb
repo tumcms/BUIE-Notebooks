{
 "cells": [
  {
   "cell_type": "markdown",
   "source": [
    "# BUI E Python Vorlesung 4\n",
    "## Hörsaalübungen"
   ],
   "metadata": {
    "collapsed": false
   }
  },
  {
   "cell_type": "markdown",
   "source": [
    "## 1. Klassendefinition und -nutzung Python (Folie 88):\n",
    "\n",
    "Schreiben Sie eine Klasse Rechteck mit den Properties laenge und breite und der Methode umfang(). Verwenden Sie die Dekorator-Technik für das Anlegen von Getter und Setter-Methoden.\n",
    "\n",
    "Testen Sie Ihre Klasse, indem Sie ein Rechteck mit Länge=2, Breite =4 anlegen, den Umfang ausgeben und anschließend seine Länge auf 4 und seine Breite auf 8 erhöhen und wiederum den Umfang ausgeben.\n"
   ],
   "metadata": {
    "collapsed": false,
    "pycharm": {
     "name": "#%% md\n"
    }
   }
  },
  {
   "cell_type": "code",
   "execution_count": 14,
   "outputs": [],
   "source": [],
   "metadata": {
    "collapsed": false,
    "pycharm": {
     "name": "#%%\n"
    }
   }
  },
  {
   "cell_type": "markdown",
   "source": [
    "## 2. Klasse Bruch (Folie 96):\n",
    "\n",
    "Schreiben Sie eine Klasse Bruch, die die Attribute zaehler und nenner besitzt und die die Multiplikation zweier Brüche sowie deren Vergleich mittels > unterstützt."
   ],
   "metadata": {
    "collapsed": false
   }
  },
  {
   "cell_type": "code",
   "execution_count": 14,
   "outputs": [],
   "source": [],
   "metadata": {
    "collapsed": false,
    "pycharm": {
     "name": "#%%\n"
    }
   }
  },
  {
   "cell_type": "markdown",
   "source": [
    "## 3. Klasse Fahrzeug (Folie 106):\n",
    "\n",
    "Implementieren Sie das unten stehende Klassendiagramm.\n",
    "Testen Sie Ihre Implementierung durch Instanziierung eines LKW-Objekts sowie eines PKW-Objekts und Aufruf von beschleunige() und bremse() sowie Ausgabe der Geschwindigkeit."
   ],
   "metadata": {
    "collapsed": false
   }
  },
  {
   "cell_type": "markdown",
   "source": [
    "<img src=\"Fahrzeug_Klassendiagramm.png\" width=\"350\" height=\"200\">"
   ],
   "metadata": {
    "collapsed": false
   }
  },
  {
   "cell_type": "code",
   "execution_count": 14,
   "outputs": [],
   "source": [],
   "metadata": {
    "collapsed": false,
    "pycharm": {
     "name": "#%%\n"
    }
   }
  },
  {
   "cell_type": "markdown",
   "source": [
    "## 4. Klasse GeomFigur (Folie 109):\n",
    "\n",
    "- Definieren Sie eine Klasse GeomFigur mit den leeren Methoden umfang() und flaecheninhalt().\n",
    "- Definieren Sie die Subklasse Kreis, die das Attribute radius besitzt und die die abstrakten Methoden mit einer sinnvollen Implementierung überschreibt.\n",
    "- Definieren Sie die Sublasse Rechteck, die die Attribute a und b besitzt und die die abstrakten Methoden mit einer sinnvollen Implementierung überschreibt."
   ],
   "metadata": {
    "collapsed": false
   }
  },
  {
   "cell_type": "code",
   "execution_count": 14,
   "outputs": [],
   "source": [],
   "metadata": {
    "collapsed": false,
    "pycharm": {
     "name": "#%%\n"
    }
   }
  }
 ],
 "metadata": {
  "kernelspec": {
   "display_name": "Python 3",
   "language": "python",
   "name": "python3"
  },
  "language_info": {
   "codemirror_mode": {
    "name": "ipython",
    "version": 2
   },
   "file_extension": ".py",
   "mimetype": "text/x-python",
   "name": "python",
   "nbconvert_exporter": "python",
   "pygments_lexer": "ipython2",
   "version": "2.7.6"
  }
 },
 "nbformat": 4,
 "nbformat_minor": 0
}